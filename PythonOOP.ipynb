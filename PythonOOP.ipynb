{
 "cells": [
  {
   "cell_type": "code",
   "execution_count": null,
   "id": "532666bf-3d02-4fc8-9e21-989d04454f22",
   "metadata": {},
   "outputs": [],
   "source": [
    "1. Объекты\n",
    "Все данные в Python представлены объектами или экземплярами классов. Объекты имеют тип, который определяет их поведение \n",
    "(например, целые числа, строки, списки и т.д.). \n",
    "Каждый объект имеет свои атрибуты (переменные, связанные с объектом) и \n",
    "методы (функции, которые могут быть вызваны для работы с объектом)."
   ]
  },
  {
   "cell_type": "code",
   "execution_count": null,
   "id": "0327c05a-26a8-43a9-b55b-d23d61ae93f4",
   "metadata": {},
   "outputs": [],
   "source": [
    "2. Классы"
   ]
  },
  {
   "cell_type": "code",
   "execution_count": null,
   "id": "2e0e3739-6382-419d-ab34-b455e296e284",
   "metadata": {},
   "outputs": [],
   "source": [
    "Классы в Python используются для определения типов данных и создания объектов (экземпляров класса). \n",
    "Определение класса содержит его атрибуты (переменные данных) \n",
    "и методы (функции, оперирующие данными класса)."
   ]
  },
  {
   "cell_type": "code",
   "execution_count": null,
   "id": "50f5df90-3155-4bfd-bb95-83dffe6e416c",
   "metadata": {},
   "outputs": [],
   "source": [
    "пример:"
   ]
  },
  {
   "cell_type": "code",
   "execution_count": 2,
   "id": "59e062c4-b9d6-40cd-bc45-85b8e8c505bd",
   "metadata": {},
   "outputs": [],
   "source": [
    "class MyClass:\n",
    "    class_attribute = 123\n",
    "    def __init__(self, x,y):\n",
    "        self.x=x\n",
    "        self.y=y\n",
    "    def instance_method(self):\n",
    "        return self.x + self.y\n",
    "\n",
    "    @classmethod\n",
    "    def class_method(cls):\n",
    "        return cls.class_attribute\n",
    "\n",
    "    @staticmethod\n",
    "    def static_method():\n",
    "        return \"static\"\n",
    "        "
   ]
  },
  {
   "cell_type": "code",
   "execution_count": null,
   "id": "6f5e22a9-f48b-472f-a9f5-71660d50266d",
   "metadata": {},
   "outputs": [],
   "source": [
    "Атрибуты:"
   ]
  },
  {
   "cell_type": "code",
   "execution_count": null,
   "id": "058e8662-f938-48a9-87dd-0f12212c27e5",
   "metadata": {},
   "outputs": [],
   "source": [
    "Атрибуты - это переменные, связанные с экземплярами классов или с классами в целом.\n",
    "В Python атрибуты могут быть общедоступными (public), закрытыми (private) \n",
    "или защищенными (protected), в зависимости от соглашений об именовании и использовании."
   ]
  },
  {
   "cell_type": "code",
   "execution_count": null,
   "id": "53c13a64-69e2-4753-9d4f-6f87f60856cb",
   "metadata": {},
   "outputs": [],
   "source": [
    "пример:"
   ]
  },
  {
   "cell_type": "code",
   "execution_count": 4,
   "id": "733f83f6-c84d-4276-ae47-d08ecf2e163e",
   "metadata": {},
   "outputs": [
    {
     "name": "stdout",
     "output_type": "stream",
     "text": [
      "10\n",
      "123\n"
     ]
    }
   ],
   "source": [
    "obj = MyClass(10,20)\n",
    "print(obj.x)\n",
    "print(obj.class_attribute)\n",
    "\n",
    "class MathOperations:\n",
    "    pi = 3.14\n",
    "    @staticmethod\n",
    "    def calculate_circle_are(radius)\n",
    "        return MathOperations.pi*(radius**2)\n",
    "\n",
    "    @staticmethod\n",
    "    def add(a,b):\n",
    "        return a+b\n",
    "\n",
    "circle_area = MathOperations.calculate_circle_are(5)\n",
    "\n"
   ]
  },
  {
   "cell_type": "code",
   "execution_count": null,
   "id": "effe7ae3-c303-411e-aed6-131bec17bc8d",
   "metadata": {},
   "outputs": [],
   "source": [
    "Методы:\n",
    "Методы - это функции, связанные с классами. Они могут быть методами экземпляра, методами класса или статическими методами.\n",
    "•\tМетоды экземпляра оперируют данными экземпляра и имеют доступ к его атрибутам через параметр self.\n",
    "•\tМетоды класса оперируют данными класса и имеют доступ к его атрибутам через параметр cls.\n",
    "•\tСтатические методы не требуют доступа к экземпляру или классу и используются в основном для \n",
    "группировки функциональности внутри класса.\n"
   ]
  },
  {
   "cell_type": "code",
   "execution_count": null,
   "id": "dbc223ad-b819-42d3-9398-579fe79c5507",
   "metadata": {},
   "outputs": [],
   "source": [
    "Наследование:\n",
    "Наследование позволяет создавать новые классы на основе существующих (родительских) классов.\n",
    "Новый класс (потомок) наследует атрибуты и методы родительского класса, \n",
    "что позволяет переиспользовать код и расширять функциональность."
   ]
  },
  {
   "cell_type": "code",
   "execution_count": null,
   "id": "64302a32-7d2b-41da-8942-e1538a9578bf",
   "metadata": {},
   "outputs": [],
   "source": [
    "пример"
   ]
  },
  {
   "cell_type": "code",
   "execution_count": null,
   "id": "8adecc51-de5a-4971-8b8f-c4483a1d4761",
   "metadata": {},
   "outputs": [],
   "source": [
    "class ChildClass(MyClass):\n",
    "    def __init__(self, x,y,z):\n",
    "        super().__init__(x,y)\n",
    "        self.z = z\n",
    "    def child_method(self):\n",
    "        return self.x*self.y*self.z"
   ]
  },
  {
   "cell_type": "code",
   "execution_count": null,
   "id": "99103a56-89a5-4722-8120-1b32bbcf0c9b",
   "metadata": {},
   "outputs": [],
   "source": [
    "Полиморфизм:\n",
    "Полиморфизм в Python позволяет использовать объекты разных классов с одинаковыми именами методов. \n",
    "Это достигается благодаря динамической типизации и динамическому связыванию методов"
   ]
  },
  {
   "cell_type": "code",
   "execution_count": null,
   "id": "fa2c5d99-c0c6-4c8e-9d03-46471977ce02",
   "metadata": {},
   "outputs": [],
   "source": [
    "пример:\n"
   ]
  },
  {
   "cell_type": "code",
   "execution_count": 8,
   "id": "8444ea6f-f44f-4138-8c60-8eb8654e6764",
   "metadata": {},
   "outputs": [
    {
     "name": "stdout",
     "output_type": "stream",
     "text": [
      "gav\n",
      "may\n",
      "kra\n"
     ]
    }
   ],
   "source": [
    "class Animal:\n",
    "    def speak(self):\n",
    "        pass\n",
    "class Dog(Animal):\n",
    "    def speak(self):\n",
    "        return \"gav\"\n",
    "class Cat(Animal):\n",
    "    def speak(self):\n",
    "        return \"may\"\n",
    "class Duck(Animal):\n",
    "    def speak(self):\n",
    "        return \"kra\"\n",
    "\n",
    "def make_sound(animal):\n",
    "    return animal.speak()\n",
    "\n",
    "dog = Dog()\n",
    "cat = Cat()\n",
    "duck = Duck()\n",
    "\n",
    "print(make_sound(dog))\n",
    "print(make_sound(cat))\n",
    "print(make_sound(duck))\n",
    "    "
   ]
  },
  {
   "cell_type": "code",
   "execution_count": null,
   "id": "b0f10a70-02f1-4af4-b56e-35fe26ffb0b5",
   "metadata": {},
   "outputs": [],
   "source": [
    "Специальные методы (магические методы):\n",
    "Специальные методы позволяют определить поведение объектов при\n",
    "выполнении определенных операций (например, сложение, вызов функций, доступ к атрибутам и т.д.). \n",
    "Эти методы начинаются и заканчиваются двойными подчеркиваниями (__)."
   ]
  },
  {
   "cell_type": "code",
   "execution_count": null,
   "id": "fc7c2579-7014-49b3-a2e0-3413cef6ffc0",
   "metadata": {},
   "outputs": [],
   "source": [
    "пример:"
   ]
  },
  {
   "cell_type": "code",
   "execution_count": 11,
   "id": "280e5b99-a8bf-44b1-8aa4-bf4c83bd06cb",
   "metadata": {},
   "outputs": [
    {
     "name": "stdout",
     "output_type": "stream",
     "text": [
      "MyClass with x=30\n"
     ]
    }
   ],
   "source": [
    "class MyClass:\n",
    "    def __init__(self, x):\n",
    "        self.x=x\n",
    "    def __add__(self, other):\n",
    "        return MyClass(self.x + other.x)\n",
    "    def __str__(self):\n",
    "        return f\"MyClass with x={self.x}\"\n",
    "obj1 = MyClass(10)\n",
    "obj2 = MyClass(20)\n",
    "reuslt = obj1 + obj2\n",
    "print(reuslt)"
   ]
  },
  {
   "cell_type": "code",
   "execution_count": null,
   "id": "65e097cb-8b05-43c7-bec6-eb8da59bf83c",
   "metadata": {},
   "outputs": [],
   "source": [
    "New-style классы:"
   ]
  },
  {
   "cell_type": "code",
   "execution_count": null,
   "id": "97c8ad5c-4660-49c9-b671-f54f9f01f10a",
   "metadata": {},
   "outputs": [],
   "source": [
    "1.\tМножественное наследование: New-style классы поддерживают множественное наследование, что \n",
    "позволяет классам наследовать атрибуты и методы от нескольких родительских классов."
   ]
  },
  {
   "cell_type": "code",
   "execution_count": null,
   "id": "6646d482-8764-44e8-ac48-cb9b56e00cc0",
   "metadata": {},
   "outputs": [],
   "source": [
    "пример:"
   ]
  },
  {
   "cell_type": "code",
   "execution_count": 12,
   "id": "e700b2c3-1eb2-43dd-8171-65ef0e5eb604",
   "metadata": {},
   "outputs": [
    {
     "name": "stdout",
     "output_type": "stream",
     "text": [
      "Method of class A\n"
     ]
    }
   ],
   "source": [
    "class A:\n",
    "    def method(self):\n",
    "        return \"Method of class A\"\n",
    "class B:\n",
    "    def method(self):\n",
    "        return \"Method of class B\"\n",
    "class C(A, B):\n",
    "    pass\n",
    "\n",
    "c = C()\n",
    "print(c.method())"
   ]
  },
  {
   "cell_type": "code",
   "execution_count": null,
   "id": "0795a1c5-1fc5-44cf-9aab-368345ae67ff",
   "metadata": {},
   "outputs": [],
   "source": [
    "MRO (Method Resolution Order)"
   ]
  },
  {
   "cell_type": "code",
   "execution_count": 14,
   "id": "5db6166f-8880-4b93-91e3-244a6c29f549",
   "metadata": {},
   "outputs": [
    {
     "name": "stdout",
     "output_type": "stream",
     "text": [
      "class C\n"
     ]
    }
   ],
   "source": [
    "class A:\n",
    "    def method(self):\n",
    "        return \"class A\"\n",
    "        \n",
    "class B(A):\n",
    "    pass\n",
    "    \n",
    "class C(A):\n",
    "    def method(self):\n",
    "        return \"class C\"\n",
    "\n",
    "class D(B, C):\n",
    "    pass\n",
    "\n",
    "d = D()\n",
    "print(d.method())"
   ]
  },
  {
   "cell_type": "code",
   "execution_count": null,
   "id": "ed4c5304-ceb6-421f-a8d4-1aabc174bf9b",
   "metadata": {},
   "outputs": [],
   "source": [
    "2.\tМетоды и атрибуты класса: В new-style классах можно определять статические \n",
    "методы и свойства класса, что упрощает работу с данными класса и его поведением."
   ]
  },
  {
   "cell_type": "code",
   "execution_count": null,
   "id": "c2663d76-4f9a-4973-ae9a-2ef7938076c6",
   "metadata": {},
   "outputs": [],
   "source": [
    "пример:"
   ]
  },
  {
   "cell_type": "code",
   "execution_count": 15,
   "id": "313fa2ed-2f6c-4134-9278-a2464a4e1dc5",
   "metadata": {},
   "outputs": [
    {
     "name": "stdout",
     "output_type": "stream",
     "text": [
      "this is static method\n",
      "123\n",
      "10\n"
     ]
    }
   ],
   "source": [
    "class MyClass:\n",
    "    class_attribute=123\n",
    "    def __init__(self, x):\n",
    "        self.x=x\n",
    "    \n",
    "    def instance_method(self):\n",
    "        return self.x*2\n",
    "\n",
    "    @staticmethod\n",
    "    def static_method():\n",
    "        return \"this is static method\"\n",
    "\n",
    "    @classmethod\n",
    "    def class_method(cls):\n",
    "        return cls.class_attribute\n",
    "\n",
    "    @property\n",
    "    def value(self):\n",
    "        return self.x\n",
    "\n",
    "    @value.setter\n",
    "    def value(self, new_value):\n",
    "        self.x=new_value\n",
    "print(MyClass.static_method())\n",
    "print(MyClass.class_method())\n",
    "\n",
    "obj = MyClass(5)\n",
    "obj.value=10\n",
    "print(obj.value)\n",
    "        \n"
   ]
  },
  {
   "cell_type": "code",
   "execution_count": null,
   "id": "d2eb4459-455d-4ebf-85e7-108084294b69",
   "metadata": {},
   "outputs": [],
   "source": [
    "3.\tСпециальные методы (магические методы): New-style классы поддерживают полный набор \n",
    "специальных методов (например, __str__, __repr__, __len__ и т.д.), которые определяют различные\n",
    "аспекты поведения объекта и позволяют переопределять стандартные операции."
   ]
  },
  {
   "cell_type": "code",
   "execution_count": 17,
   "id": "1ede2450-7071-494f-9229-fe2ca9e3b1c1",
   "metadata": {},
   "outputs": [
    {
     "name": "stdout",
     "output_type": "stream",
     "text": [
      "Point(3, 5)\n",
      "3, 5\n"
     ]
    }
   ],
   "source": [
    "class Point:\n",
    "    def __init__(self, x,y):\n",
    "        self.x=x\n",
    "        self.y=y\n",
    "    def __repr__(self):\n",
    "        return f\"Point({self.x}, {self.y})\"\n",
    "    def __str__(self):\n",
    "        return f\"{self.x}, {self.y}\"\n",
    "        \n",
    "p = Point(3,5)\n",
    "print(repr(p))\n",
    "print(p)"
   ]
  },
  {
   "cell_type": "code",
   "execution_count": null,
   "id": "16cc9e84-b941-4301-96c1-315ed7cec06a",
   "metadata": {},
   "outputs": [],
   "source": [
    "4.\tДескрипторы и слоты: New-style классы поддерживают использование дескрипторов и слотов, \n",
    "что предоставляет более тонкую настройку поведения атрибутов и управление памятью объектов."
   ]
  },
  {
   "cell_type": "code",
   "execution_count": null,
   "id": "6a4c5e88-fc8b-4ef3-8578-9228b85dc990",
   "metadata": {},
   "outputs": [],
   "source": [
    "пример: слоты"
   ]
  },
  {
   "cell_type": "code",
   "execution_count": 18,
   "id": "8d9ef500-0677-44d1-9380-0a30a625f17c",
   "metadata": {},
   "outputs": [
    {
     "ename": "AttributeError",
     "evalue": "'Point' object has no attribute 'z'",
     "output_type": "error",
     "traceback": [
      "\u001b[1;31m---------------------------------------------------------------------------\u001b[0m",
      "\u001b[1;31mAttributeError\u001b[0m                            Traceback (most recent call last)",
      "Cell \u001b[1;32mIn[18], line 11\u001b[0m\n\u001b[0;32m      8\u001b[0m p\u001b[38;5;241m.\u001b[39mx\u001b[38;5;241m=\u001b[39m\u001b[38;5;241m10\u001b[39m\n\u001b[0;32m      9\u001b[0m p\u001b[38;5;241m.\u001b[39my\u001b[38;5;241m=\u001b[39m\u001b[38;5;241m20\u001b[39m\n\u001b[1;32m---> 11\u001b[0m p\u001b[38;5;241m.\u001b[39mz\u001b[38;5;241m=\u001b[39m\u001b[38;5;241m30\u001b[39m\n",
      "\u001b[1;31mAttributeError\u001b[0m: 'Point' object has no attribute 'z'"
     ]
    }
   ],
   "source": [
    "class Point:\n",
    "    __slots__ = ('x', 'y')\n",
    "\n",
    "    def __init__(self, x,y):\n",
    "        self.x=x\n",
    "        self.y=y\n",
    "p = Point(3,5)\n",
    "p.x=10\n",
    "p.y=20\n",
    "\n",
    "p.z=30"
   ]
  },
  {
   "cell_type": "code",
   "execution_count": null,
   "id": "6f023ec0-76bc-4e53-817d-747f9bbfe2b6",
   "metadata": {},
   "outputs": [],
   "source": [
    "__slots__ - это механизм оптимизации использования памяти в Python,\n",
    "который позволяет явно указать фиксированный набор атрибутов экземпляра класса.\n",
    "Использование __slots__ заменяет динамическое создание атрибутов словарем экземпляра на массив фиксированного размера."
   ]
  },
  {
   "cell_type": "code",
   "execution_count": null,
   "id": "16ae4e11-e11c-40ad-b59f-0c27399a0567",
   "metadata": {},
   "outputs": [],
   "source": [
    "пример дескрипторы"
   ]
  },
  {
   "cell_type": "code",
   "execution_count": null,
   "id": "699a8d54-af5c-4c63-8868-caf7b91f95a6",
   "metadata": {},
   "outputs": [],
   "source": [
    "__new__ - это специальный метод, который вызывается для создания нового экземпляра класса до\n",
    "его инициализации методом __init__. Он часто переопределяется \n",
    "в случаях, когда требуется более тонкая настройка процесса создания объекта."
   ]
  },
  {
   "cell_type": "code",
   "execution_count": null,
   "id": "4f4d9811-23fb-4c04-9052-b3ee11c406c2",
   "metadata": {},
   "outputs": [],
   "source": [
    "пример"
   ]
  },
  {
   "cell_type": "code",
   "execution_count": null,
   "id": "87266ecc-eb44-47de-9380-7f264a08ba11",
   "metadata": {},
   "outputs": [],
   "source": [
    "import re\n",
    "\n",
    "class EmailDescriptor:\n",
    "    def __init__(self, name):\n",
    "        self.name=name\n",
    "\n",
    "    def __get__(self, instance, owner):\n",
    "        return getattr(instance, self.name, None)\n",
    "\n",
    "    def __set__(self, instance, value):\n",
    "        if not re.match(r\"[^@]+@[^@]+\\.[^@]+\", value):\n",
    "            raise ValueError(\"Invalide email format\")\n",
    "        setattr(instance, self.name, value)\n",
    "\n",
    "class User:\n",
    "    email = EmailDescriptor('email')\n",
    "    def __init__(self, name, email):\n",
    "        self.name=name\n",
    "        self.email=email\n",
    "\n",
    "user = User(\"Alice\", \"alice@gmail.com\")\n",
    "//user.email = \"sdf\"\n",
    "print(user.mail)\n",
    "\n"
   ]
  },
  {
   "cell_type": "code",
   "execution_count": null,
   "id": "98336ecd-5533-42f0-b9df-0c6025a498f7",
   "metadata": {},
   "outputs": [],
   "source": [
    "Abstract class"
   ]
  },
  {
   "cell_type": "code",
   "execution_count": 2,
   "id": "3863af05-cda8-40f9-87c0-7533bef6cc62",
   "metadata": {},
   "outputs": [
    {
     "ename": "TypeError",
     "evalue": "Can't instantiate abstract class Animal with abstract methods move, speak",
     "output_type": "error",
     "traceback": [
      "\u001b[1;31m---------------------------------------------------------------------------\u001b[0m",
      "\u001b[1;31mTypeError\u001b[0m                                 Traceback (most recent call last)",
      "Cell \u001b[1;32mIn[2], line 17\u001b[0m\n\u001b[0;32m     14\u001b[0m         \u001b[38;5;28;01mreturn\u001b[39;00m \u001b[38;5;124m\"\u001b[39m\u001b[38;5;124mjump\u001b[39m\u001b[38;5;124m\"\u001b[39m\n\u001b[0;32m     16\u001b[0m dog \u001b[38;5;241m=\u001b[39m Dog()\n\u001b[1;32m---> 17\u001b[0m animal \u001b[38;5;241m=\u001b[39m Animal()\n\u001b[0;32m     18\u001b[0m \u001b[38;5;28mprint\u001b[39m(dog\u001b[38;5;241m.\u001b[39mspeak())\n\u001b[0;32m     19\u001b[0m \u001b[38;5;28mprint\u001b[39m(dog\u001b[38;5;241m.\u001b[39mmove())\n",
      "\u001b[1;31mTypeError\u001b[0m: Can't instantiate abstract class Animal with abstract methods move, speak"
     ]
    }
   ],
   "source": [
    "from abc import ABC, abstractmethod\n",
    "\n",
    "class Animal(ABC):\n",
    "    @abstractmethod\n",
    "    def speak(self):\n",
    "        pass\n",
    "    @abstractmethod\n",
    "    def move(self):\n",
    "        pass\n",
    "class Dog(Animal):\n",
    "    def speak(self):\n",
    "        return \"Gav\"\n",
    "    def move(self):\n",
    "        return \"jump\"\n",
    "\n",
    "dog = Dog()\n",
    "print(dog.speak())\n",
    "print(dog.move())\n"
   ]
  },
  {
   "cell_type": "code",
   "execution_count": null,
   "id": "ebe860e4-05ec-446d-85ff-085cb2c5bca2",
   "metadata": {},
   "outputs": [],
   "source": [
    "Name Mangling - это техника, используемая в Python для \"скрытия\" атрибутов класса от\n",
    "внешнего доступа. Имена атрибутов, которые начинаются с двух подчеркиваний (__),\n",
    "автоматически переименовываются в _<className>__<attributeName> для предотвращения конфликтов имен в подклассах."
   ]
  },
  {
   "cell_type": "code",
   "execution_count": null,
   "id": "05512eeb-0b97-42db-87e7-2d236f5ae739",
   "metadata": {},
   "outputs": [],
   "source": [
    "пример"
   ]
  },
  {
   "cell_type": "code",
   "execution_count": 3,
   "id": "7f250b1e-040a-47d1-85b9-d45c2b16ce7a",
   "metadata": {},
   "outputs": [
    {
     "ename": "AttributeError",
     "evalue": "'MyClass' object has no attribute '__private_var'",
     "output_type": "error",
     "traceback": [
      "\u001b[1;31m---------------------------------------------------------------------------\u001b[0m",
      "\u001b[1;31mAttributeError\u001b[0m                            Traceback (most recent call last)",
      "Cell \u001b[1;32mIn[3], line 6\u001b[0m\n\u001b[0;32m      3\u001b[0m         \u001b[38;5;28mself\u001b[39m\u001b[38;5;241m.\u001b[39m__private_var \u001b[38;5;241m=\u001b[39m \u001b[38;5;241m10\u001b[39m\n\u001b[0;32m      5\u001b[0m obj \u001b[38;5;241m=\u001b[39m MyClass()\n\u001b[1;32m----> 6\u001b[0m \u001b[38;5;28mprint\u001b[39m(obj\u001b[38;5;241m.\u001b[39m__private_var)\n",
      "\u001b[1;31mAttributeError\u001b[0m: 'MyClass' object has no attribute '__private_var'"
     ]
    }
   ],
   "source": [
    "class MyClass:\n",
    "    def __init__(self):\n",
    "        self.__private_var = 10\n",
    "\n",
    "obj = MyClass()\n",
    "print(obj.__private_var)"
   ]
  },
  {
   "cell_type": "code",
   "execution_count": null,
   "id": "de95b1d1-0f3c-42bd-9432-c2c3244173f1",
   "metadata": {},
   "outputs": [],
   "source": [
    "@classmethod используется для создания методов класса, которые принимают первым аргументом ссылку на класс (cls). \n",
    "Это позволяет методу оперировать с классом, а не с экземплярами класса."
   ]
  },
  {
   "cell_type": "code",
   "execution_count": 6,
   "id": "8b96d34a-2e4a-43b8-b7b5-567641c3789c",
   "metadata": {},
   "outputs": [
    {
     "ename": "NameError",
     "evalue": "name 'classmethodonly' is not defined",
     "output_type": "error",
     "traceback": [
      "\u001b[1;31m---------------------------------------------------------------------------\u001b[0m",
      "\u001b[1;31mNameError\u001b[0m                                 Traceback (most recent call last)",
      "Cell \u001b[1;32mIn[6], line 1\u001b[0m\n\u001b[1;32m----> 1\u001b[0m \u001b[38;5;28;01mclass\u001b[39;00m \u001b[38;5;21;01mMyClass\u001b[39;00m:\n\u001b[0;32m      2\u001b[0m     class_attr\u001b[38;5;241m=\u001b[39m\u001b[38;5;241m10\u001b[39m\n\u001b[0;32m      3\u001b[0m     \u001b[38;5;28;01mdef\u001b[39;00m \u001b[38;5;21m__init__\u001b[39m(\u001b[38;5;28mself\u001b[39m, instance_attr):\n",
      "Cell \u001b[1;32mIn[6], line 5\u001b[0m, in \u001b[0;36mMyClass\u001b[1;34m()\u001b[0m\n\u001b[0;32m      3\u001b[0m \u001b[38;5;28;01mdef\u001b[39;00m \u001b[38;5;21m__init__\u001b[39m(\u001b[38;5;28mself\u001b[39m, instance_attr):\n\u001b[0;32m      4\u001b[0m     \u001b[38;5;28mself\u001b[39m\u001b[38;5;241m.\u001b[39minstance_attr\u001b[38;5;241m=\u001b[39minstance_attr\n\u001b[1;32m----> 5\u001b[0m \u001b[38;5;129m@classmethodonly\u001b[39m\n\u001b[0;32m      6\u001b[0m \u001b[38;5;28;01mdef\u001b[39;00m \u001b[38;5;21mclass_method\u001b[39m(\u001b[38;5;28mcls\u001b[39m):\n\u001b[0;32m      7\u001b[0m     \u001b[38;5;28;01mreturn\u001b[39;00m \u001b[38;5;28mcls\u001b[39m\u001b[38;5;241m.\u001b[39mclass_attr\n",
      "\u001b[1;31mNameError\u001b[0m: name 'classmethodonly' is not defined"
     ]
    }
   ],
   "source": [
    "class MyClass:\n",
    "    class_attr=10\n",
    "    def __init__(self, instance_attr):\n",
    "        self.instance_attr=instance_attr\n",
    "    @classmethodonly\n",
    "    def class_method(cls):\n",
    "        return cls.class_attr\n",
    "\n",
    "print(MyClass.class_method())\n"
   ]
  },
  {
   "cell_type": "code",
   "execution_count": 7,
   "id": "450d6be5-ad9c-42ef-808f-ac7d5596a1c7",
   "metadata": {},
   "outputs": [
    {
     "name": "stdout",
     "output_type": "stream",
     "text": [
      "Point(x=3, y=5)\n"
     ]
    }
   ],
   "source": [
    "from dataclasses import dataclass\n",
    "@dataclass\n",
    "class Point:\n",
    "    x: int\n",
    "    y: int\n",
    "\n",
    "p = Point(3,5)\n",
    "print(p)\n"
   ]
  },
  {
   "cell_type": "code",
   "execution_count": null,
   "id": "160cf434-e963-4c56-b9f3-5478d9638cc5",
   "metadata": {},
   "outputs": [],
   "source": [
    "class Date:\n",
    "    def __init__(self, year, month, day)\"\n",
    "        self.year = year\n",
    "        self.month=month\n",
    "        self.day=day\n",
    "\n",
    "    @classmethod\n",
    "    def from_string(cls, date_string):\n",
    "        year, month, day = map(int, date_string.split('-'))\n",
    "        return cls(year, month, day)\n",
    "    "
   ]
  }
 ],
 "metadata": {
  "kernelspec": {
   "display_name": "Python 3 (ipykernel)",
   "language": "python",
   "name": "python3"
  },
  "language_info": {
   "codemirror_mode": {
    "name": "ipython",
    "version": 3
   },
   "file_extension": ".py",
   "mimetype": "text/x-python",
   "name": "python",
   "nbconvert_exporter": "python",
   "pygments_lexer": "ipython3",
   "version": "3.11.7"
  }
 },
 "nbformat": 4,
 "nbformat_minor": 5
}
